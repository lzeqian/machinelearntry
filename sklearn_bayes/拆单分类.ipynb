{
 "cells": [
  {
   "cell_type": "code",
   "execution_count": null,
   "metadata": {
    "collapsed": true,
    "pycharm": {
     "is_executing": true
    }
   },
   "outputs": [],
   "source": [
    "import os\n",
    "import jieba\n",
    "import mysql.connector\n",
    "'''\n",
    "  判断字符串是否为数字，清理包括:1,1.5,023,34%等特别的数字字符串\n",
    "'''\n",
    "def isNumber(num):\n",
    "    if(num.isdigit() or num.isnumeric() or num.isdecimal()):\n",
    "        return True\n",
    "    if num.endswith('%'):\n",
    "        num_str = num[:-1]  # 去掉百分号\n",
    "        return isNumber(num_str)\n",
    "    try:\n",
    "        _ = float(num)\n",
    "        return True\n",
    "    except ValueError:\n",
    "        return False\n",
    "    return False\n",
    "'''\n",
    "  将某个字符串通过jieba分词后通过空格拼接，因为CountVectorizer统计词频传入的是带空格的字符串\n",
    "'''\n",
    "def wordToVec(word):\n",
    "        word_cut = jieba.cut(word, cut_all = False) \n",
    "        filtered_words = filter(lambda w: w is not None and len(w.strip()) > 0 and not isNumber(w.strip()), list(word_cut))  # 过滤掉空字符串\n",
    "        word_list=\" \".join(filtered_words)\n",
    "        return word_list\n",
    "def LoadData():\n",
    "    mydb = mysql.connector.connect(\n",
    "      host=\"192.168.20.20\",\n",
    "      user=\"root\",\n",
    "      passwd=\"db@12345\",\n",
    "      database=\"gvtgms\",\n",
    "      port=\"3307\"\n",
    "    )\n",
    "    mycursor = mydb.cursor()\n",
    "    mycursor.execute(\"SELECT CONCAT(p.name,''),c.NAME,h.PTID,h.ClassName FROM gvtgms.product  p LEFT JOIN gvtgms.class c ON p.CLASS_ID=c.ID INNER JOIN apos_splitpackage.productclass h ON h.PTID=p.PT_ID\")\n",
    "    myresult = mycursor.fetchall()\n",
    "    data_list = []                                                #训练集\n",
    "    class_list = []\n",
    "    for x in myresult:\n",
    "        raw=x[0].decode('utf-8')+x[1]+x[3]\n",
    "        lable=x[2]\n",
    "        word_list=wordToVec(raw)\n",
    "        data_list.append(word_list)\n",
    "        class_list.append(lable)\n",
    "    return data_list,class_list\n",
    "\n",
    "import numpy as np\n",
    "from sklearn.feature_extraction.text import CountVectorizer\n",
    "from sklearn.naive_bayes import MultinomialNB\n",
    "from sklearn.externals import joblib\n",
    "if __name__ == '__main__':\n",
    "    data_list,class_list=LoadData()\n",
    "    stop_words=\"\";\n",
    "    with open(os.path.join(\"./新闻分类数据\", \"stopwords_cn.txt\"), 'r', encoding = 'utf-8') as f:    #打开txt文件\n",
    "                stop_words = f.read()\n",
    "    stop_words_array=stop_words.split(\"\\n\") \n",
    "    #除了停止词外，单个字母的都会被自动过滤掉\n",
    "    vectorizer = CountVectorizer(stop_words=stop_words_array)\n",
    "    X = vectorizer.fit_transform(data_list)\n",
    "    fn=np.array(vectorizer.get_feature_names())\n",
    "    print(\"特征列：\",fn)\n",
    "    v=np.array(X.toarray())\n",
    "    print(\"词条向量：\\n\",v)\n",
    "    joblib.dump(vectorizer, './vectorizer.pkl')"
   ]
  },
  {
   "cell_type": "code",
   "execution_count": null,
   "outputs": [],
   "source": [
    "    from sklearn.utils import shuffle\n",
    "    from sklearn.model_selection import train_test_split\n",
    "    from sklearn.externals import joblib\n",
    "\n",
    "    X, y = shuffle(v, class_list, random_state=42)\n",
    "    X_train, X_test, y_train, y_test = train_test_split(X, y, test_size=0.02, random_state=42)\n",
    "    \n",
    "    classifier = MultinomialNB().fit(X_train, y_train)\n",
    "    # 将模型保存至文件\n",
    "    joblib.dump(classifier, './classification_of_goods.pkl')\n",
    "    print(\"训练数据模型完成\")"
   ],
   "metadata": {
    "collapsed": false,
    "pycharm": {
     "name": "#%%\n",
     "is_executing": true
    }
   }
  },
  {
   "cell_type": "code",
   "execution_count": null,
   "outputs": [],
   "source": [
    "    from sklearn.externals import joblib\n",
    "    classifier = joblib.load('./classification_of_goods.pkl')\n",
    "    test_accuracy = classifier.score(X_test, y_test)\n",
    "    print(test_accuracy)\n",
    "\n"
   ],
   "metadata": {
    "collapsed": false,
    "pycharm": {
     "name": "#%%\n",
     "is_executing": true
    }
   }
  },
  {
   "cell_type": "code",
   "execution_count": 1,
   "outputs": [],
   "source": [
    "import jieba\n",
    "def wordToVec(word):\n",
    "    word_cut = jieba.cut(word, cut_all = False) \n",
    "    filtered_words = filter(lambda w: w is not None and len(w.strip()) > 0 and not isNumber(w.strip()), list(word_cut))  # 过滤掉空字符串\n",
    "    word_list=\" \".join(filtered_words)\n",
    "    return word_list\n",
    "'''\n",
    "  判断字符串是否为数字，清理包括:1,1.5,023,34%等特别的数字字符串\n",
    "'''\n",
    "def isNumber(num):\n",
    "    if(num.isdigit() or num.isnumeric() or num.isdecimal()):\n",
    "        return True\n",
    "    if num.endswith('%'):\n",
    "        num_str = num[:-1]  # 去掉百分号\n",
    "        return isNumber(num_str)\n",
    "    try:\n",
    "        _ = float(num)\n",
    "        return True\n",
    "    except ValueError:\n",
    "        return False\n",
    "    return False"
   ],
   "metadata": {
    "collapsed": false,
    "pycharm": {
     "name": "#%%\n",
     "is_executing": false
    }
   }
  },
  {
   "cell_type": "code",
   "execution_count": 2,
   "outputs": [
    {
     "name": "stderr",
     "text": [
      "C:\\Users\\liaomin\\anaconda3\\lib\\site-packages\\sklearn\\externals\\joblib\\__init__.py:15: FutureWarning: sklearn.externals.joblib is deprecated in 0.21 and will be removed in 0.23. Please import this functionality directly from joblib, which can be installed with: pip install joblib. If this warning is raised when loading pickled models, you may need to re-serialize those models with scikit-learn 0.21+.\n  warnings.warn(msg, category=FutureWarning)\n",
      "Building prefix dict from the default dictionary ...\n",
      "Loading model from cache C:\\Users\\liaomin\\AppData\\Local\\Temp\\jieba.cache\n",
      "Loading model cost 0.918 seconds.\n",
      "Prefix dict has been built successfully.\n"
     ],
     "output_type": "stream"
    },
    {
     "name": "stdout",
     "text": [
      "['2020000']\n['1019903']\n"
     ],
     "output_type": "stream"
    }
   ],
   "source": [
    "    from sklearn.externals import joblib\n",
    "    classifier = joblib.load('./classification_of_goods.pkl')\n",
    "    vectorizer = joblib.load('./vectorizer.pkl')\n",
    "    v1=vectorizer.transform([wordToVec(\"东方溪谷经典干红葡萄酒西拉赤霞珠\")]).toarray();\n",
    "    print(classifier.predict(v1))\n",
    "    v1=vectorizer.transform([wordToVec(\"嘉宝Gerber婴幼儿米粉米糊 宝宝辅食227g/罐 美国进口 DHA益生菌燕麦米粉227g\")]).toarray();\n",
    "    print(classifier.predict(v1))\n"
   ],
   "metadata": {
    "collapsed": false,
    "pycharm": {
     "name": "#%%\n",
     "is_executing": false
    }
   }
  },
  {
   "cell_type": "code",
   "execution_count": null,
   "outputs": [],
   "source": [
    "\n"
   ],
   "metadata": {
    "collapsed": false,
    "pycharm": {
     "name": "#%%\n"
    }
   }
  }
 ],
 "metadata": {
  "kernelspec": {
   "display_name": "Python 3",
   "language": "python",
   "name": "python3"
  },
  "language_info": {
   "codemirror_mode": {
    "name": "ipython",
    "version": 2
   },
   "file_extension": ".py",
   "mimetype": "text/x-python",
   "name": "python",
   "nbconvert_exporter": "python",
   "pygments_lexer": "ipython2",
   "version": "2.7.6"
  },
  "pycharm": {
   "stem_cell": {
    "cell_type": "raw",
    "source": [],
    "metadata": {
     "collapsed": false
    }
   }
  }
 },
 "nbformat": 4,
 "nbformat_minor": 0
}