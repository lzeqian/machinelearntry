{
 "cells": [
  {
   "cell_type": "code",
   "execution_count": 11,
   "metadata": {
    "collapsed": true,
    "pycharm": {
     "is_executing": false
    }
   },
   "outputs": [
    {
     "name": "stdout",
     "text": [
      "[[0 0 0 0 1 1 0 0 1 1 0 0 0 0 0 0 0 2 0 0 1 0 1 0 0 0 0 0 0 0 0]\n [0 0 0 0 1 0 0 0 0 0 1 0 0 0 0 1 0 0 1 1 0 0 0 0 0 0 0 1 1 1 0]\n [0 0 1 1 0 0 0 0 0 0 1 0 1 0 1 0 0 1 0 0 0 0 0 0 1 0 0 0 0 0 0]\n [0 0 0 0 0 0 0 1 0 0 0 0 0 0 0 0 0 0 0 0 0 1 0 0 0 0 1 1 0 0 1]\n [1 0 0 0 0 0 0 0 0 0 1 1 0 1 0 0 1 1 0 0 0 0 0 0 0 1 1 0 0 1 0]\n [0 1 0 0 1 0 1 0 0 0 0 0 0 0 0 0 0 0 0 0 0 0 0 1 0 0 0 1 0 0 1]]\n['ate', 'buying', 'cute', 'dalmation', 'dog', 'flea', 'food', 'garbage', 'has', 'help', 'him', 'how', 'is', 'licks', 'love', 'maybe', 'mr', 'my', 'not', 'park', 'please', 'posting', 'problems', 'quit', 'so', 'steak', 'stop', 'stupid', 'take', 'to', 'worthless']\n"
     ],
     "output_type": "stream"
    }
   ],
   "source": [
    "postingList=['my my dog has flea problems help please',                #切分的词条\n",
    "            'maybe not take him to dog park stupid',\n",
    "             'my dalmation is so cute I love him',\n",
    "             'stop posting stupid worthless garbage',\n",
    "             'mr licks ate my steak how to stop him',\n",
    "             'quit buying worthless dog food stupid']\n",
    "classVec = [0,1,0,1,0,1]                                                                   #类别标签向量，1代表侮辱性词汇，0代表不是\n",
    "\n",
    "from sklearn.feature_extraction.text import CountVectorizer\n",
    "# 初始化CountVectorizer并进行文本特征提取\n",
    "vectorizer = CountVectorizer()\n",
    "X = vectorizer.fit_transform(postingList)\n",
    "\n",
    "# 显示特征向量和对应的单词\n",
    "print(X.toarray())\n",
    "print(vectorizer.get_feature_names())"
   ]
  },
  {
   "cell_type": "code",
   "execution_count": 12,
   "outputs": [
    {
     "name": "stdout",
     "text": [
      "[[0.         0.         0.         0.         0.37115593 0.53611046\n  0.         0.         0.53611046 0.         0.         0.\n  0.         0.         0.         0.53611046 0.         0.\n  0.         0.         0.        ]\n [0.         0.         0.         0.         0.40249409 0.\n  0.         0.         0.         0.         0.         0.58137639\n  0.         0.58137639 0.         0.         0.         0.\n  0.         0.40249409 0.        ]\n [0.         0.         0.57735027 0.57735027 0.         0.\n  0.         0.         0.         0.         0.57735027 0.\n  0.         0.         0.         0.         0.         0.\n  0.         0.         0.        ]\n [0.         0.         0.         0.         0.         0.\n  0.         0.51136725 0.         0.         0.         0.\n  0.         0.         0.51136725 0.         0.         0.\n  0.41932846 0.3540259  0.41932846]\n [0.46262479 0.         0.         0.         0.         0.\n  0.         0.         0.         0.46262479 0.         0.\n  0.46262479 0.         0.         0.         0.         0.46262479\n  0.37935895 0.         0.        ]\n [0.         0.46468841 0.         0.         0.32170956 0.\n  0.46468841 0.         0.         0.         0.         0.\n  0.         0.         0.         0.         0.46468841 0.\n  0.         0.32170956 0.38105114]]\n['ate', 'buying', 'cute', 'dalmation', 'dog', 'flea', 'food', 'garbage', 'has', 'help', 'him', 'how', 'is', 'licks', 'love', 'maybe', 'mr', 'my', 'not', 'park', 'please', 'posting', 'problems', 'quit', 'so', 'steak', 'stop', 'stupid', 'take', 'to', 'worthless']\n"
     ],
     "output_type": "stream"
    }
   ],
   "source": [
    "from sklearn.feature_extraction.text import TfidfVectorizer\n",
    "\n",
    "# 初始化TfidfVectorizer\n",
    "tvectorizer = TfidfVectorizer(stop_words='english')\n",
    "\n",
    "# 转换文本数据到词袋模型\n",
    "X_train = tvectorizer.fit_transform(postingList)\n",
    "# 显示特征向量和对应的单词\n",
    "print(X_train.toarray())\n",
    "print(vectorizer.get_feature_names())\n"
   ],
   "metadata": {
    "collapsed": false,
    "pycharm": {
     "name": "#%%\n",
     "is_executing": false
    }
   }
  }
 ],
 "metadata": {
  "kernelspec": {
   "display_name": "Python 3",
   "language": "python",
   "name": "python3"
  },
  "language_info": {
   "codemirror_mode": {
    "name": "ipython",
    "version": 2
   },
   "file_extension": ".py",
   "mimetype": "text/x-python",
   "name": "python",
   "nbconvert_exporter": "python",
   "pygments_lexer": "ipython2",
   "version": "2.7.6"
  },
  "pycharm": {
   "stem_cell": {
    "cell_type": "raw",
    "source": [],
    "metadata": {
     "collapsed": false
    }
   }
  }
 },
 "nbformat": 4,
 "nbformat_minor": 0
}