{
 "cells": [
  {
   "cell_type": "code",
   "execution_count": 15,
   "outputs": [
    {
     "name": "stdout",
     "text": [
      "[[0 0 0 0 1 1 0 0 1 1 0 0 0 0 0 0 0 1 0 0 1 0 1 0 0 0 0 0 0 0 0]\n [0 0 0 0 1 0 0 0 0 0 1 0 0 0 0 1 0 0 1 1 0 0 0 0 0 0 0 1 1 1 0]\n [0 0 1 1 0 0 0 0 0 0 1 0 1 0 1 0 0 1 0 0 0 0 0 0 1 0 0 0 0 0 0]\n [0 0 0 0 0 0 0 1 0 0 0 0 0 0 0 0 0 0 0 0 0 1 0 0 0 0 1 1 0 0 1]\n [1 0 0 0 0 0 0 0 0 0 1 1 0 1 0 0 1 1 0 0 0 0 0 0 0 1 1 0 0 1 0]\n [0 1 0 0 1 0 1 0 0 0 0 0 0 0 0 0 0 0 0 0 0 0 0 1 0 0 0 1 0 0 1]]\n['ate' 'buying' 'cute' 'dalmation' 'dog' 'flea' 'food' 'garbage' 'has'\n 'help' 'him' 'how' 'is' 'licks' 'love' 'maybe' 'mr' 'my' 'not' 'park'\n 'please' 'posting' 'problems' 'quit' 'so' 'steak' 'stop' 'stupid' 'take'\n 'to' 'worthless']\n[0.03389831 0.02542373 0.03389831 0.03389831 0.03389831 0.03389831\n 0.02542373 0.02542373 0.03389831 0.03389831 0.04237288 0.03389831\n 0.03389831 0.03389831 0.03389831 0.02542373 0.03389831 0.05084746\n 0.02542373 0.02542373 0.03389831 0.02542373 0.03389831 0.02542373\n 0.03389831 0.03389831 0.03389831 0.02542373 0.02542373 0.03389831\n 0.02542373] [0.02631579 0.03508772 0.02631579 0.02631579 0.04385965 0.02631579\n 0.03508772 0.03508772 0.02631579 0.02631579 0.03508772 0.02631579\n 0.02631579 0.02631579 0.02631579 0.03508772 0.02631579 0.02631579\n 0.03508772 0.03508772 0.02631579 0.03508772 0.02631579 0.03508772\n 0.02631579 0.02631579 0.03508772 0.05263158 0.03508772 0.03508772\n 0.04385965] 0.5\n",
      "1\n"
     ],
     "output_type": "stream"
    }
   ],
   "source": [
    "import numpy as np\n",
    "postingList=['my dog has flea problems help please',                #切分的词条\n",
    "            'maybe not take him to dog park stupid',\n",
    "             'my dalmation is so cute I love him',\n",
    "             'stop posting stupid worthless garbage',\n",
    "             'mr licks ate my steak how to stop him',\n",
    "             'quit buying worthless dog food stupid']\n",
    "classVec = np.array([0,1,0,1,0,1])    \n",
    "\n",
    "from sklearn.feature_extraction.text import CountVectorizer\n",
    "# 初始化CountVectorizer并进行文本特征提取\n",
    "vectorizer = CountVectorizer()\n",
    "X = vectorizer.fit_transform(postingList)\n",
    "\n",
    "# 显示特征向量和对应的单词\n",
    "v=np.array(X.toarray())\n",
    "print(v)\n",
    "fn=np.array(vectorizer.get_feature_names())\n",
    "print(fn)\n",
    "\n",
    "\n",
    "#  P(Yj|X1,X2,X3) = P(Yj)  * (P(X1|Yj)*P(X2|Yj)*....P(Xn|Yj) / P(X1)*P(X2)*....P(Xn))\n",
    "# P(Y1)假设是：侮辱类，先验概率就是0.5  P(Y2)是：非侮辱类，先验概率就是0.5 ，定义一个函数获取(P(X1|Yj)*P(X2|Yj)*....P(Xn|Yj)即可\n",
    "#假设传入了一个语句，hello my name is za\n",
    "# P（hello|Y1）就表示在侮辱类的数据行下 hello的概率\n",
    "def pyj(text,classval):\n",
    "    #将所有的文字按空格拆分出来 [\"hello\",\"my\",...]\n",
    "    wordArray=text.split(\" \")\n",
    "    probability=1\n",
    "    #找到当前分类的索引，分类的索引相对于单词向量的行。\n",
    "    indexArray=np.where(classVec==classval)\n",
    "    #获取当前分类下的词条行。\n",
    "    curClassArray=v[indexArray]\n",
    "    for word in wordArray :\n",
    "        wordIndex=np.where(fn==word)\n",
    "        if len(wordIndex[0])==0:\n",
    "            continue\n",
    "        #获取当前特征列的词频数组。转换成1维。\n",
    "        cu_fn=curClassArray[:,wordIndex[0][0]].flatten()\n",
    "        #找到所有词频大于1/当前label下总的次数=p(x|y)\n",
    "        pxy=len(np.where(cu_fn>0)[0])/len(cu_fn)\n",
    "        probability*=pxy\n",
    "    return probability\n",
    "\"\"\"\n",
    "  通过传入单词向量和分类结果训练数据集获取到每个特征在不同分类下的条件概率，以及对应分类的先验概率。\n",
    "  利用贝叶斯分类器对文档进行分类时，要计算多个概率的乘积以获得文档属于某个类别的概率，\n",
    "  即计算p(w0|1)p(w1|1)p(w2|1)。\n",
    "  如果其中有一个概率值为0，那么最后的成绩也为0\n",
    "  这样是不合理的，为了降低这种影响，可以将所有词的出现数初始化为1，并将分母初始化为2。这种做法就叫做拉普拉斯平滑(Laplace Smoothing)又被称为加1平滑，\n",
    "  是比较常用的平滑方法，它就是为了解决0概率问题，具体参考拉普拉斯平滑目录。\n",
    "\"\"\"\n",
    "def trainData(vecList,classVec):\n",
    "    #获取先验概率P(侮辱类),    P(非侮辱类)=1-P(侮辱类)\n",
    "    PϹ侮辱类先验Ͻ=np.sum(classVec)/len(classVec)\n",
    "    #找到所有classVec==0非侮辱类索引行并取得数据行。\n",
    "    vec0=vecList[np.where(classVec==0)]\n",
    "    #找到所有classVec==1侮辱类索引行并取得数据行。\n",
    "    vec1=vecList[np.where(classVec==1)]\n",
    "    #设置拉普拉斯平滑因子为1: ,分类的种类是2中所有分子+1，分母+2\n",
    "    a=1\n",
    "    #让分子都加上1\n",
    "    vec0=np.add(vec0,a)\n",
    "    vec1=np.add(vec1,a)\n",
    "    #计算每个特征在对应分类下的条件概率，分母加上2\n",
    "    PϹ特征l非侮辱类Ͻ=np.sum(vec0,axis=0)/(np.sum(vec0)+a*2)\n",
    "    PϹ特征l侮辱类Ͻ=np.sum(vec1,axis=0)/(np.sum(vec1)+a*2)\n",
    "    return PϹ特征l侮辱类Ͻ,PϹ特征l非侮辱类Ͻ,PϹ侮辱类先验Ͻ\n",
    "'''\n",
    "  注意求条件概率是找到对应的单词下在对应的分类下的乘积，比如\n",
    "  you    are     a     dog       as               b\n",
    "  0.001 0.0005  0.03   0.666     0.3             0.99\n",
    "  \n",
    "  传入的矩阵就是\n",
    "  1       1      1      1        0               0\n",
    "   \n",
    "  实际条件侮辱类概率就是\n",
    "  P(you|侮辱类)*P(are|侮辱类)*P(a|侮辱类)*P(dog|侮辱类)\n",
    "  乘积小数位太多就可能导致小数位溢出，需要使用两个乘数的log来防止溢出\n",
    "  log(P(you|侮辱类)*P(are|侮辱类)*P(a|侮辱类)*P(dog|侮辱类))=log(P(you|侮辱类))+log(P(are|侮辱类))+log(P(a|侮辱类))+log(P(dog|侮辱类))\n",
    "  为了通过计算直接获取到对应的这些特征单词的和，可以先求出所有特征的log值和传入的矩阵乘积在求和就是上面的结果\n",
    "'''\n",
    "def classResult(wordVec,PϹ特征l侮辱类Ͻ,PϹ特征l非侮辱类Ͻ,PϹ侮辱类先验Ͻ):\n",
    "    PϹ侮辱类Ͻ=np.sum(np.log(PϹ特征l侮辱类Ͻ)*wordVec)+np.log(PϹ侮辱类先验Ͻ)\n",
    "    PϹ非侮辱类Ͻ=np.sum(np.log(PϹ特征l非侮辱类Ͻ)*wordVec)+np.log(1-PϹ侮辱类先验Ͻ)\n",
    "    return 1 if PϹ侮辱类Ͻ>PϹ非侮辱类Ͻ else 0\n",
    "\n",
    "PϹ特征l侮辱类Ͻ,PϹ特征l非侮辱类Ͻ,PϹ侮辱类先验Ͻ=(trainData(v,classVec))\n",
    "print(PϹ特征l非侮辱类Ͻ,PϹ特征l侮辱类Ͻ,PϹ侮辱类先验Ͻ)\n",
    "\n",
    "\n",
    "text=[\"you are a dog\"]\n",
    "testX = vectorizer.transform(text)\n",
    "\n",
    "# 显示特征向量和对应的单词\n",
    "testV=np.array(testX.toarray())\n",
    "print(classResult(testV,PϹ特征l侮辱类Ͻ,PϹ特征l非侮辱类Ͻ,PϹ侮辱类先验Ͻ))"
   ],
   "metadata": {
    "collapsed": false,
    "pycharm": {
     "name": "#%%\n",
     "is_executing": false
    }
   }
  },
  {
   "cell_type": "code",
   "execution_count": null,
   "outputs": [],
   "source": [
    "\n"
   ],
   "metadata": {
    "collapsed": false,
    "pycharm": {
     "name": "#%%\n"
    }
   }
  }
 ],
 "metadata": {
  "kernelspec": {
   "display_name": "Python 3",
   "language": "python",
   "name": "python3"
  },
  "language_info": {
   "codemirror_mode": {
    "name": "ipython",
    "version": 2
   },
   "file_extension": ".py",
   "mimetype": "text/x-python",
   "name": "python",
   "nbconvert_exporter": "python",
   "pygments_lexer": "ipython2",
   "version": "2.7.6"
  },
  "pycharm": {
   "stem_cell": {
    "cell_type": "raw",
    "source": [],
    "metadata": {
     "collapsed": false
    }
   }
  }
 },
 "nbformat": 4,
 "nbformat_minor": 0
}