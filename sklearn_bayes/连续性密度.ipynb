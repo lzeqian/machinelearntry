{
 "cells": [
  {
   "cell_type": "code",
   "execution_count": 28,
   "metadata": {
    "collapsed": true,
    "pycharm": {
     "is_executing": false
    }
   },
   "outputs": [
    {
     "name": "stdout",
     "text": [
      "       身高                体重                 鞋码          \n     mean        var   mean         var   mean       var\n性别                                                      \n女   164.0  11.333333  104.5  187.666667  37.25  2.916667\n男   179.5  13.666667  158.5  169.000000  43.00  4.666667\n"
     ],
     "output_type": "stream"
    }
   ],
   "source": [
    "import numpy as np\n",
    "import pandas as pd\n",
    "df = pd.read_excel('连续性.xlsx',sheet_name=\"Sheet1\",index_col=0)\n",
    "# 计算男女在每个特征维度的方差和均值\n",
    "df2 = df.groupby(\"性别\").agg([np.mean, np.var])\n",
    "print(df2)"
   ]
  },
  {
   "cell_type": "code",
   "execution_count": 29,
   "outputs": [
    {
     "name": "stdout",
     "text": [
      "0.0000052327\n0.0000016477\n男性\n"
     ],
     "output_type": "stream"
    }
   ],
   "source": [
    "np.set_printoptions(suppress=True) #不使用科学计数法\n",
    "male_high_mean = df2.loc[\"男\",\"身高\"][\"mean\"]\n",
    "male_high_var = df2.loc[\"男\",\"身高\"][\"var\"]\n",
    "\n",
    "male_weight_mean = df2.loc[\"男\",\"体重\"][\"mean\"]\n",
    "male_weight_var = df2.loc[\"男\",\"体重\"][\"var\"]\n",
    "\n",
    "male_code_mean = df2.loc[\"男\",\"鞋码\"][\"mean\"]\n",
    "male_code_var = df2.loc[\"男\",\"鞋码\"][\"var\"]\n",
    "from scipy import stats\n",
    "\n",
    "# pdf ——概率密度函数标准形式是,算出在男性中身高180的概率\n",
    "male_high = stats.norm.pdf(180,male_high_mean,male_high_var)\n",
    "# 算出在男性中体重120的概率\n",
    "male_weight = stats.norm.pdf(120, male_weight_mean, male_weight_var)\n",
    "# 算出在男性中鞋码41的概率\n",
    "male_code = stats.norm.pdf(41, male_code_mean, male_code_var)\n",
    "fz=(male_high*male_weight*male_code)\n",
    "#不使用科学计数法输出，保留10位小数\n",
    "print('%.10f' %fz)\n",
    "\n",
    "female_high_mean = df2.loc[\"女\",\"身高\"][\"mean\"]\n",
    "female_high_var = df2.loc[\"女\",\"身高\"][\"var\"]\n",
    "\n",
    "female_weight_mean = df2.loc[\"女\",\"体重\"][\"mean\"]\n",
    "female_weight_var = df2.loc[\"女\",\"体重\"][\"var\"]\n",
    "\n",
    "female_code_mean = df2.loc[\"女\",\"鞋码\"][\"mean\"]\n",
    "female_code_var = df2.loc[\"女\",\"鞋码\"][\"var\"]\n",
    "\n",
    "\n",
    "#计算在女性分类中的三种特征的概率\n",
    "female_high = stats.norm.pdf(180, female_high_mean, female_high_var)\n",
    "female_weight = stats.norm.pdf(120, female_weight_mean, female_weight_var)\n",
    "female_code = stats.norm.pdf(41, female_code_mean, female_code_var)\n",
    "ffz=female_high*female_weight*female_code\n",
    "print('%.10f' % ffz)\n",
    "if fz>ffz:\n",
    "    print(\"男性\")\n",
    "else :\n",
    "    print(\"女性\")\n"
   ],
   "metadata": {
    "collapsed": false,
    "pycharm": {
     "name": "#%%\n",
     "is_executing": false
    }
   }
  }
 ],
 "metadata": {
  "kernelspec": {
   "display_name": "Python 3",
   "language": "python",
   "name": "python3"
  },
  "language_info": {
   "codemirror_mode": {
    "name": "ipython",
    "version": 2
   },
   "file_extension": ".py",
   "mimetype": "text/x-python",
   "name": "python",
   "nbconvert_exporter": "python",
   "pygments_lexer": "ipython2",
   "version": "2.7.6"
  },
  "pycharm": {
   "stem_cell": {
    "cell_type": "raw",
    "source": [],
    "metadata": {
     "collapsed": false
    }
   }
  }
 },
 "nbformat": 4,
 "nbformat_minor": 0
}