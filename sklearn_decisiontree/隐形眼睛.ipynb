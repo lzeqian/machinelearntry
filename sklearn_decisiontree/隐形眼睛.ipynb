{
 "cells": [
  {
   "cell_type": "code",
   "execution_count": 26,
   "metadata": {
    "collapsed": true,
    "pycharm": {
     "is_executing": false
    }
   },
   "outputs": [
    {
     "name": "stdout",
     "text": [
      "[['young' 'myope' 'no' 'reduced' 'no lenses']\n",
      " ['young' 'myope' 'no' 'normal' 'soft']\n",
      " ['young' 'myope' 'yes' 'reduced' 'no lenses']\n",
      " ['young' 'myope' 'yes' 'normal' 'hard']\n",
      " ['young' 'hyper' 'no' 'reduced' 'no lenses']\n",
      " ['young' 'hyper' 'no' 'normal' 'soft']\n",
      " ['young' 'hyper' 'yes' 'reduced' 'no lenses']\n",
      " ['young' 'hyper' 'yes' 'normal' 'hard']\n",
      " ['pre' 'myope' 'no' 'reduced' 'no lenses']\n",
      " ['pre' 'myope' 'no' 'normal' 'soft']\n",
      " ['pre' 'myope' 'yes' 'reduced' 'no lenses']\n",
      " ['pre' 'myope' 'yes' 'normal' 'hard']\n",
      " ['pre' 'hyper' 'no' 'reduced' 'no lenses']\n",
      " ['pre' 'hyper' 'no' 'normal' 'soft']\n",
      " ['pre' 'hyper' 'yes' 'reduced' 'no lenses']\n",
      " ['pre' 'hyper' 'yes' 'normal' 'no lenses']\n",
      " ['presbyopic' 'myope' 'no' 'reduced' 'no lenses']\n",
      " ['presbyopic' 'myope' 'no' 'normal' 'no lenses']\n",
      " ['presbyopic' 'myope' 'yes' 'reduced' 'no lenses']\n",
      " ['presbyopic' 'myope' 'yes' 'normal' 'hard']\n",
      " ['presbyopic' 'hyper' 'no' 'reduced' 'no lenses']\n",
      " ['presbyopic' 'hyper' 'no' 'normal' 'soft']\n",
      " ['presbyopic' 'hyper' 'yes' 'reduced' 'no lenses']\n",
      " ['presbyopic' 'hyper' 'yes' 'normal' 'no lenses']]\n",
      "['no lenses', 'soft', 'no lenses', 'hard', 'no lenses', 'soft', 'no lenses', 'hard', 'no lenses', 'soft', 'no lenses', 'hard', 'no lenses', 'soft', 'no lenses', 'no lenses', 'no lenses', 'no lenses', 'no lenses', 'hard', 'no lenses', 'soft', 'no lenses', 'no lenses']\n"
     ],
     "output_type": "stream"
    }
   ],
   "source": [
    "import numpy as np\n",
    "import pandas as pd\n",
    "fr = open('lenses.txt')\n",
    "lenses = np.array([inst.strip().split('\\t') for inst in fr.readlines()])\n",
    "print(lenses)\n",
    "#四个特征一列是：年龄，第二列是症状，第三列是是否散光，第四列是眼泪数量\n",
    "#，第五列是最终的分类标签，隐形眼镜类型包括硬材质(hard)、软材质(soft)以及不适合佩戴隐形眼镜(no lenses)\n",
    "lensesLabels = ['age', 'prescript', 'astigmatic', 'tearRate']\n",
    "#最终分类在最后一列\n",
    "lenses_target = [each[-1] for each in lenses]                                                        \n",
    "print(lenses_target)"
   ]
  },
  {
   "cell_type": "code",
   "execution_count": 27,
   "outputs": [
    {
     "name": "stdout",
     "text": [
      "           age prescript astigmatic tearRate\n",
      "0        young     myope         no  reduced\n",
      "1        young     myope         no   normal\n",
      "2        young     myope        yes  reduced\n",
      "3        young     myope        yes   normal\n",
      "4        young     hyper         no  reduced\n",
      "5        young     hyper         no   normal\n",
      "6        young     hyper        yes  reduced\n",
      "7        young     hyper        yes   normal\n",
      "8          pre     myope         no  reduced\n",
      "9          pre     myope         no   normal\n",
      "10         pre     myope        yes  reduced\n",
      "11         pre     myope        yes   normal\n",
      "12         pre     hyper         no  reduced\n",
      "13         pre     hyper         no   normal\n",
      "14         pre     hyper        yes  reduced\n",
      "15         pre     hyper        yes   normal\n",
      "16  presbyopic     myope         no  reduced\n",
      "17  presbyopic     myope         no   normal\n",
      "18  presbyopic     myope        yes  reduced\n",
      "19  presbyopic     myope        yes   normal\n",
      "20  presbyopic     hyper         no  reduced\n",
      "21  presbyopic     hyper         no   normal\n",
      "22  presbyopic     hyper        yes  reduced\n",
      "23  presbyopic     hyper        yes   normal\n"
     ],
     "output_type": "stream"
    }
   ],
   "source": [
    "#组装成带有表头的数据格式\n",
    "lensesDataFrame=np.concatenate((np.array([lensesLabels]),lenses[:,0:4]))\n",
    "'''\n",
    "注意dataframe的用法\n",
    "df['a']#取a列\n",
    "df[['a','b']]#取a、b列\n",
    "默认的表头是0，1，2这样的序号，如果需要自定义表头需要定义json\n",
    "{\n",
    "   \"age\":[young,pre],\n",
    "   \"prescript\":[\"myope\",\"myope\"]\n",
    "}\n",
    "'''\n",
    "jsonData= {l:lenses[:,i]for i,l in enumerate(lensesLabels)}\n",
    "lenses_pd = pd.DataFrame(jsonData)                                    #生成pandas.DataFrame\n",
    "print(lenses_pd)\n"
   ],
   "metadata": {
    "collapsed": false,
    "pycharm": {
     "name": "#%%\n",
     "is_executing": false
    }
   }
  },
  {
   "cell_type": "code",
   "execution_count": 28,
   "outputs": [
    {
     "name": "stdout",
     "text": [
      "    age  prescript  astigmatic  tearRate\n",
      "0     2          1           0         1\n",
      "1     2          1           0         0\n",
      "2     2          1           1         1\n",
      "3     2          1           1         0\n",
      "4     2          0           0         1\n",
      "5     2          0           0         0\n",
      "6     2          0           1         1\n",
      "7     2          0           1         0\n",
      "8     0          1           0         1\n",
      "9     0          1           0         0\n",
      "10    0          1           1         1\n",
      "11    0          1           1         0\n",
      "12    0          0           0         1\n",
      "13    0          0           0         0\n",
      "14    0          0           1         1\n",
      "15    0          0           1         0\n",
      "16    1          1           0         1\n",
      "17    1          1           0         0\n",
      "18    1          1           1         1\n",
      "19    1          1           1         0\n",
      "20    1          0           0         1\n",
      "21    1          0           0         0\n",
      "22    1          0           1         1\n",
      "23    1          0           1         0\n"
     ],
     "output_type": "stream"
    }
   ],
   "source": [
    "from sklearn.preprocessing import LabelEncoder\n",
    "# 将所有的label 比如young转换成0，pre转为成1这样的数字编码\n",
    "le = LabelEncoder()          \n",
    "#传入一个一维的数字，在这个数组里，相同的字符串转换为相同的数字\n",
    "for i in lenses_pd.columns:\n",
    "    lenses_pd[i]=le.fit_transform(lenses_pd[i])\n",
    "print(lenses_pd)\n"
   ],
   "metadata": {
    "collapsed": false,
    "pycharm": {
     "name": "#%%\n",
     "is_executing": false
    }
   }
  },
  {
   "cell_type": "code",
   "execution_count": 29,
   "outputs": [
    {
     "data": {
      "text/plain": "True"
     },
     "metadata": {},
     "output_type": "execute_result",
     "execution_count": 29
    }
   ],
   "source": [
    "#使用sklearn决策树\n",
    "from sklearn import tree\n",
    "import pydotplus\n",
    "from io import StringIO\n",
    "clf = tree.DecisionTreeClassifier(max_depth = 4)                        #创建DecisionTreeClassifier()类\n",
    "clf = clf.fit(lenses_pd.values.tolist(), lenses_target)                    #使用数据，构建决策树\n",
    "dot_data = StringIO()\n",
    "tree.export_graphviz(clf, out_file = dot_data,                            #绘制决策树\n",
    "                    feature_names = lenses_pd.keys(),\n",
    "                    class_names = clf.classes_,\n",
    "                    filled=True, rounded=True,\n",
    "                    special_characters=True)\n",
    "graph = pydotplus.graph_from_dot_data(dot_data.getvalue())\n",
    "graph.write_pdf(\"tree.pdf\")                               \n"
   ],
   "metadata": {
    "collapsed": false,
    "pycharm": {
     "name": "#%%\n",
     "is_executing": false
    }
   }
  }
 ],
 "metadata": {
  "kernelspec": {
   "display_name": "Python 3",
   "language": "python",
   "name": "python3"
  },
  "language_info": {
   "codemirror_mode": {
    "name": "ipython",
    "version": 2
   },
   "file_extension": ".py",
   "mimetype": "text/x-python",
   "name": "python",
   "nbconvert_exporter": "python",
   "pygments_lexer": "ipython2",
   "version": "2.7.6"
  },
  "pycharm": {
   "stem_cell": {
    "cell_type": "raw",
    "source": [],
    "metadata": {
     "collapsed": false
    }
   }
  }
 },
 "nbformat": 4,
 "nbformat_minor": 0
}