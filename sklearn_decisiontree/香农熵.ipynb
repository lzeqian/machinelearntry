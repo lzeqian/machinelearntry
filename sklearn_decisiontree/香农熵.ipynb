{
 "cells": [
  {
   "cell_type": "code",
   "execution_count": 28,
   "metadata": {
    "collapsed": true,
    "pycharm": {
     "is_executing": false
    }
   },
   "outputs": [
    {
     "name": "stdout",
     "text": [
      "整个数据经验熵： 0.9709505944546686\n年龄特征条件熵 0.8879430945988998\n年龄的信息增益 0.08300749985576883\n第0个特征的信息增益 0.08300749985576883\n第1个特征的信息增益 0.32365019815155627\n第2个特征的信息增益 0.4199730940219749\n第3个特征的信息增益 0.36298956253708536\n"
     ],
     "output_type": "stream"
    }
   ],
   "source": [
    "#数据集，yes表示放贷，no表示不放贷\n",
    "'''\n",
    "具体参考：案例图\n",
    " 特征1表示年龄 0表示青年，1表示中间，2表示老年\n",
    " 特征2表示是否有工作  0表示否，1表示有\n",
    " 特征3表示是否有自己的房子 0表示否 1表示有\n",
    " 特征4是信贷情况 0表示一般 1表示好 2表示非常好。\n",
    "'''\n",
    "import numpy as np\n",
    "dataSet = np.array([[0, 0, 0, 0, 'no'],         \n",
    "            [0, 0, 0, 1, 'no'],\n",
    "            [0, 1, 0, 1, 'yes'],\n",
    "            [0, 1, 1, 0, 'yes'],\n",
    "            [0, 0, 0, 0, 'no'],\n",
    "            [1, 0, 0, 0, 'no'],\n",
    "            [1, 0, 0, 1, 'no'],\n",
    "            [1, 1, 1, 1, 'yes'],\n",
    "            [1, 0, 1, 2, 'yes'],\n",
    "            [1, 0, 1, 2, 'yes'],\n",
    "            [2, 0, 1, 2, 'yes'],\n",
    "            [2, 0, 1, 1, 'yes'],\n",
    "            [2, 1, 0, 1, 'yes'],\n",
    "            [2, 1, 0, 2, 'yes'],\n",
    "            [2, 0, 0, 0, 'no']])\n",
    "labels = ['不放贷', '放贷']\n",
    "'''\n",
    "  计算经验熵\n",
    "'''\n",
    "def ShannonEnt(D):\n",
    "    #去除重复元素的结论的分类:[yes,no]\n",
    "    kArray=np.unique(D[:,4].reshape(1,len(D)))\n",
    "    #计算出最终分类的个数\n",
    "    k=len(kArray)\n",
    "    #获取整个样本集的个数\n",
    "    D_count=len(D)\n",
    "    #经验熵\n",
    "    HD=0;\n",
    "    #循环多个分类，计算这个分类的熵，最后求和\n",
    "    for i in range(k):\n",
    "        #获取等于当前分类的数据行\n",
    "        ck=[row for row in D if row[4]==kArray[i]]\n",
    "        HD-=len(ck)/D_count *np.log2(len(ck)/D_count) \n",
    "    return HD;\n",
    "'''\n",
    "  计算条件熵\n",
    "  H(D|0) 计算某个特征列的条件熵，当年龄特征的情况下，是否房贷不确定的情况，越大越不确定\n",
    "'''     \n",
    "def calcConditionShannon(D,index):\n",
    "    #去除重复元素的index列的数组\n",
    "    featureType=np.unique(D[:,index].reshape(1,len(D)))\n",
    "    featureTypeCount=len(featureType)\n",
    "    #获取整个样本集的个数\n",
    "    D_count=len(D)\n",
    "    HDA=0;\n",
    "    for i in range(featureTypeCount):\n",
    "        Di=np.array([row for row in D if row[index]==featureType[i]])\n",
    "        HDA+=len(Di)/D_count*ShannonEnt(Di)\n",
    "    return HDA;\n",
    "    \n",
    "HD_=ShannonEnt(dataSet)\n",
    "print(\"整个数据经验熵：\",HD_)  \n",
    "print(\"年龄特征条件熵\",calcConditionShannon(dataSet,0))\n",
    "print(\"年龄的信息增益\",HD_-calcConditionShannon(dataSet,0))\n",
    "\n",
    "feature_count=len(dataSet[0])\n",
    "for i in range(feature_count-1):\n",
    "    print(\"第\"+str(i)+\"个特征的信息增益\",HD_-calcConditionShannon(dataSet,i))"
   ]
  }
 ],
 "metadata": {
  "kernelspec": {
   "display_name": "Python 3",
   "language": "python",
   "name": "python3"
  },
  "language_info": {
   "codemirror_mode": {
    "name": "ipython",
    "version": 2
   },
   "file_extension": ".py",
   "mimetype": "text/x-python",
   "name": "python",
   "nbconvert_exporter": "python",
   "pygments_lexer": "ipython2",
   "version": "2.7.6"
  },
  "pycharm": {
   "stem_cell": {
    "cell_type": "raw",
    "source": [],
    "metadata": {
     "collapsed": false
    }
   }
  }
 },
 "nbformat": 4,
 "nbformat_minor": 0
}