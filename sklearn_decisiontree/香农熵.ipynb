{
 "cells": [
  {
   "cell_type": "code",
   "execution_count": 6,
   "outputs": [
    {
     "name": "stdout",
     "text": [
      "整个数据经验熵： 0.9709505944546686\n",
      "年龄特征条件熵 0.8879430945988998\n",
      "年龄的信息增益 0.08300749985576883\n",
      "工作的信息增益 0.32365019815155627\n",
      "第0个特征的信息增益 0.08300749985576883\n",
      "第1个特征的信息增益 0.32365019815155627\n",
      "第2个特征的信息增益 0.4199730940219749\n",
      "第3个特征的信息增益 0.36298956253708536\n",
      "-1.7369655941662063 -0.5145731728297583 -2.2515387669959646\n"
     ],
     "output_type": "stream"
    }
   ],
   "source": [
    "#数据集，yes表示放贷，no表示不放贷\n",
    "'''\n",
    "具体参考：案例图\n",
    " 特征1表示年龄 0表示青年，1表示中间，2表示老年\n",
    " 特征2表示是否有工作  0表示否，1表示有\n",
    " 特征3表示是否有自己的房子 0表示否 1表示有\n",
    " 特征4是信贷情况 0表示一般 1表示好 2表示非常好。\n",
    "'''\n",
    "import numpy as np\n",
    "dataSet = np.array([[0, 0, 0, 0, 'no'],         \n",
    "            [0, 0, 0, 1, 'no'],\n",
    "            [0, 1, 0, 1, 'yes'],\n",
    "            [0, 1, 1, 0, 'yes'],\n",
    "            [0, 0, 0, 0, 'no'],\n",
    "            [1, 0, 0, 0, 'no'],\n",
    "            [1, 0, 0, 1, 'no'],\n",
    "            [1, 1, 1, 1, 'yes'],\n",
    "            [1, 0, 1, 2, 'yes'],\n",
    "            [1, 0, 1, 2, 'yes'],\n",
    "            [2, 0, 1, 2, 'yes'],\n",
    "            [2, 0, 1, 1, 'yes'],\n",
    "            [2, 1, 0, 1, 'yes'],\n",
    "            [2, 1, 0, 2, 'yes'],\n",
    "            [2, 0, 0, 0, 'no']])\n",
    "labels = ['不放贷', '放贷']\n",
    "colLabels=[\"年龄\",\"有工作\",\"有自己的房子\",\"信贷情况\"]\n",
    "'''\n",
    "  计算经验熵\n",
    "'''\n",
    "def ShannonEnt(D):\n",
    "    #去除重复元素的结论的分类:[yes,no]\n",
    "    kArray=np.unique(D[:,4].reshape(1,len(D)))\n",
    "    #计算出最终分类的个数\n",
    "    k=len(kArray)\n",
    "    #获取整个样本集的个数\n",
    "    D_count=len(D)\n",
    "    #经验熵\n",
    "    HD=0;\n",
    "    #循环多个分类，计算这个分类的熵，最后求和\n",
    "    for i in range(k):\n",
    "        #获取等于当前分类的数据行\n",
    "        ck=[row for row in D if row[4]==kArray[i]]\n",
    "        HD-=len(ck)/D_count *np.log2(len(ck)/D_count) \n",
    "    return HD;\n",
    "'''\n",
    "  计算条件熵\n",
    "  H(D|0) 计算某个特征列的条件熵，当年龄特征的情况下，是否房贷不确定的情况，越大越不确定\n",
    "'''     \n",
    "def calcConditionShannon(D,index):\n",
    "    #去除重复元素的index列的数组\n",
    "    featureType=np.unique(D[:,index].reshape(1,len(D)))\n",
    "    featureTypeCount=len(featureType)\n",
    "    #获取整个样本集的个数\n",
    "    D_count=len(D)\n",
    "    HDA=0;\n",
    "    for i in range(featureTypeCount):\n",
    "        Di=np.array([row for row in D if row[index]==featureType[i]])\n",
    "        HDA+=len(Di)/D_count*ShannonEnt(Di)\n",
    "    return HDA;\n",
    "'''\n",
    "    计算某个特征的信息增益\n",
    "    信息增益=整个数据的不确定性-某个特征条件的不确定=这个特征增强了多少确定性\n",
    "'''\n",
    "def calaInfoGrain(D,index):\n",
    "    return ShannonEnt(dataSet)-calcConditionShannon(D,index)\n",
    "HD_=ShannonEnt(dataSet)\n",
    "print(\"整个数据经验熵：\",HD_)  \n",
    "print(\"年龄特征条件熵\",calcConditionShannon(dataSet,0))\n",
    "print(\"年龄的信息增益\",HD_-calcConditionShannon(dataSet,0))\n",
    "print(\"工作的信息增益\",calaInfoGrain(dataSet,1))\n",
    "\n",
    "feature_count=len(dataSet[0])\n",
    "for i in range(feature_count-1):\n",
    "    print(\"第\"+str(i)+\"个特征的信息增益\",HD_-calcConditionShannon(dataSet,i))\n",
    "\n",
    "\n",
    "print(np.log2(3/10),np.log2(7/10),np.log2(3/10)+np.log2(7/10))"
   ],
   "metadata": {
    "collapsed": false,
    "pycharm": {
     "name": "#%%\n",
     "is_executing": false
    }
   }
  },
  {
   "cell_type": "code",
   "execution_count": 7,
   "outputs": [
    {
     "name": "stdout",
     "text": [
      "[['0' '0' '0' '0' 'no']\n",
      " ['0' '0' '0' '1' 'no']\n",
      " ['0' '1' '0' '1' 'yes']\n",
      " ['0' '1' '1' '0' 'yes']\n",
      " ['0' '0' '0' '0' 'no']\n",
      " ['1' '0' '0' '0' 'no']\n",
      " ['1' '0' '0' '1' 'no']\n",
      " ['1' '1' '1' '1' 'yes']\n",
      " ['1' '0' '1' '2' 'yes']\n",
      " ['1' '0' '1' '2' 'yes']\n",
      " ['2' '0' '1' '2' 'yes']\n",
      " ['2' '0' '1' '1' 'yes']\n",
      " ['2' '1' '0' '1' 'yes']\n",
      " ['2' '1' '0' '2' 'yes']\n",
      " ['2' '0' '0' '0' 'no']]\n",
      "[['0' '0' '0' '0' 'no']\n",
      " ['0' '0' '0' '1' 'no']\n",
      " ['0' '1' '0' '1' 'yes']\n",
      " ['0' '0' '0' '0' 'no']\n",
      " ['1' '0' '0' '0' 'no']\n",
      " ['1' '0' '0' '1' 'no']\n",
      " ['2' '1' '0' '1' 'yes']\n",
      " ['2' '1' '0' '2' 'yes']\n",
      " ['2' '0' '0' '0' 'no']\n",
      " ['0' '1' '1' '0' 'yes']\n",
      " ['1' '1' '1' '1' 'yes']\n",
      " ['1' '0' '1' '2' 'yes']\n",
      " ['1' '0' '1' '2' 'yes']\n",
      " ['2' '0' '1' '2' 'yes']\n",
      " ['2' '0' '1' '1' 'yes']]\n",
      "[0 1 3 4 5 8 2 6 7]\n",
      "[['0' '0' '0' '0' 'no']\n",
      " ['0' '0' '0' '1' 'no']\n",
      " ['0' '0' '0' '0' 'no']\n",
      " ['1' '0' '0' '0' 'no']\n",
      " ['1' '0' '0' '1' 'no']\n",
      " ['2' '0' '0' '0' 'no']\n",
      " ['0' '1' '0' '1' 'yes']\n",
      " ['2' '1' '0' '1' 'yes']\n",
      " ['2' '1' '0' '2' 'yes']]\n"
     ],
     "output_type": "stream"
    }
   ],
   "source": [
    "print(dataSet)\n",
    "#按照第三列进行排序\n",
    "print(dataSet[np.argsort(dataSet[:,2])])\n",
    "#去除第三列=1的数据按照第二排排序\n",
    "D2=np.array([['0','0' ,'0', '0', 'no'],\n",
    " ['0' ,'0' ,'0' ,'1' ,'no'],\n",
    " ['0' ,'1' ,'0' ,'1' ,'yes'],\n",
    " ['0', '0' ,'0' ,'0' ,'no'],\n",
    " ['1', '0' ,'0' ,'0' ,'no'],\n",
    " ['1' ,'0' ,'0' ,'1', 'no'],\n",
    " ['2', '1' ,'0' ,'1' ,'yes'],\n",
    " ['2' ,'1' ,'0' ,'2' ,'yes'],\n",
    " ['2' ,'0', '0', '0' ,'no']])\n",
    "print(np.argsort(D2[:,1]))\n",
    "print(D2[np.argsort(D2[:,1])])\n"
   ],
   "metadata": {
    "collapsed": false,
    "pycharm": {
     "name": "#%%\n",
     "is_executing": false
    }
   }
  },
  {
   "cell_type": "code",
   "execution_count": 8,
   "outputs": [
    {
     "name": "stdout",
     "text": [
      "['no' 'yes'] 15 2\n",
      "['no' 'yes'] 9 2\n",
      "['no'] 6 1\n",
      "['yes'] 3 1\n",
      "['yes'] 6 1\n",
      "{'有自己的房子': {0: {'有工作': {0: 'no', 1: 'yes'}}, 1: 'yes'}}\n",
      "['有自己的房子', '有工作']\n"
     ],
     "output_type": "stream"
    }
   ],
   "source": [
    "'''\n",
    "  将数据按照值指定特征列分组，，比如有房子=1的数据行和无房子=0的数据行\n",
    "  {\n",
    "     0:[[]]\n",
    "     1:[[]]\n",
    "  }\n",
    "'''\n",
    "def splitData(D,index):\n",
    "    kArray=np.unique(D[:,index].reshape(1,len(D)))\n",
    "    #循环多个分类，计算这个分类的熵，最后求和\n",
    "    returnJSon={};\n",
    "    for i in range(len(kArray)):\n",
    "        #获取等于当前分类的数据行\n",
    "        ck=[row for row in D if row[index]==kArray[i]]\n",
    "        returnJSon[i]=np.array(ck)\n",
    "    return returnJSon;\n",
    "    \n",
    "def createDecisionTree(D,featureLabel):\n",
    "    buildTree=None\n",
    "    #如果传入的D没有数据或者第5列（是否贷款）只有一个分类值，就说明已经是叶子节点了,直接返回结论值\n",
    "    resultUniqueArray=np.unique(D[:,4].reshape(1,len(D)))\n",
    "    print(resultUniqueArray,len(D),len(resultUniqueArray))\n",
    "    if(len(D)==0 or len(resultUniqueArray)==1):\n",
    "        return resultUniqueArray[0]\n",
    "    #获取特征数\n",
    "    feature_count=D.shape[1]\n",
    "    #算出每个特征的信息增益\n",
    "    grain=[calaInfoGrain(D,i)for i in range(feature_count-1)]\n",
    "    #获取信息增益最大的特征值\n",
    "    maxFeatureIndex=np.argmax(grain);\n",
    "    #创建一个json对象，里面有个当前特征名称的对象:比如{'有自己的房子': {}}\n",
    "    buildTree={colLabels[maxFeatureIndex]:{}};\n",
    "    #将选中的特征添加到featureLabel\n",
    "    featureLabel.append(colLabels[maxFeatureIndex])\n",
    "    #循环每个独立的特征值 \n",
    "    featureGroup=splitData(D,maxFeatureIndex)\n",
    "    for featureValue in featureGroup:\n",
    "        buildTree[colLabels[maxFeatureIndex]][featureValue]=createDecisionTree(featureGroup[featureValue],featureLabel)\n",
    "    return buildTree;\n",
    "featureLabel=[]       \n",
    "decisionTreeJson=createDecisionTree(dataSet,featureLabel)\n",
    "print(decisionTreeJson)\n",
    "print(featureLabel)"
   ],
   "metadata": {
    "collapsed": false,
    "pycharm": {
     "name": "#%%\n",
     "is_executing": false
    }
   }
  },
  {
   "cell_type": "code",
   "execution_count": 9,
   "outputs": [
    {
     "data": {
      "text/plain": "'my_pic.png'"
     },
     "metadata": {},
     "output_type": "execute_result",
     "execution_count": 9
    }
   ],
   "source": [
    "from graphviz import Digraph\n",
    "import uuid\n",
    "\n",
    "def graphDecisionTree(dot,treeNode,parentName,lineName):\n",
    "    for key in treeNode:\n",
    "        if type(key)==int:\n",
    "            if type(treeNode[key])==str or type(treeNode[key])==np.str_:\n",
    "                #因为会出现两个yes，所以可能不能出现一个分叉而直接指向了，所以名字加上个uuid区分\n",
    "                node_name=str(treeNode[key])+str(uuid.uuid1())\n",
    "                dot.node(name=node_name, label=str(treeNode[key]), color='red',fontname=\"Microsoft YaHei\")\n",
    "                dot.edge(str(parentName),str(node_name), label=str(key), color='red')\n",
    "            else:\n",
    "                graphDecisionTree(dot,treeNode[key],parentName,key)\n",
    "        elif type(treeNode[key])==dict:\n",
    "            graphDecisionTree(dot,treeNode[key],key,None)\n",
    "        if type(key)==str or type(treeNode[key])==str:\n",
    "            dot.node(name=key, label=str(key), color='red',fontname=\"Microsoft YaHei\")\n",
    "        if parentName is not None and lineName is not None:\n",
    "            dot.edge(parentName,key, label=str(lineName), color='red')\n",
    "dot = Digraph(name=\"pic\", comment=\"测试\", format=\"png\")\n",
    "graphDecisionTree(dot,decisionTreeJson,None,None)\n",
    "dot.render(filename='my_pic',\n",
    "               directory='.',  # 当前目录\n",
    "               view=True)"
   ],
   "metadata": {
    "collapsed": false,
    "pycharm": {
     "name": "#%%\n",
     "is_executing": false
    }
   }
  },
  {
   "cell_type": "code",
   "execution_count": 10,
   "outputs": [
    {
     "name": "stdout",
     "text": [
      "是\n"
     ],
     "output_type": "stream"
    }
   ],
   "source": [
    "'''\n",
    "    在决策树中判断传入的特征是否贷款\n",
    "'''\n",
    "def classfiy(decisionTreeJson,featureLabel,vecTest,index):\n",
    "    if type(decisionTreeJson)==str or type(decisionTreeJson)==np.str_:\n",
    "        return decisionTreeJson\n",
    "    elif type(decisionTreeJson[featureLabel[index]])==dict :\n",
    "        return classfiy(decisionTreeJson[featureLabel[index]][vecTest[index]],featureLabel,vecTest,index+1)\n",
    "    else :\n",
    "        return decisionTreeJson\n",
    "\n",
    "print(\"是\" if classfiy(decisionTreeJson,featureLabel,[1,0],0)=='yes' else \"否\")"
   ],
   "metadata": {
    "collapsed": false,
    "pycharm": {
     "name": "#%%\n",
     "is_executing": false
    }
   }
  }
 ],
 "metadata": {
  "kernelspec": {
   "display_name": "Python 3",
   "language": "python",
   "name": "python3"
  },
  "language_info": {
   "codemirror_mode": {
    "name": "ipython",
    "version": 2
   },
   "file_extension": ".py",
   "mimetype": "text/x-python",
   "name": "python",
   "nbconvert_exporter": "python",
   "pygments_lexer": "ipython2",
   "version": "2.7.6"
  },
  "pycharm": {
   "stem_cell": {
    "cell_type": "raw",
    "source": [],
    "metadata": {
     "collapsed": false
    }
   }
  }
 },
 "nbformat": 4,
 "nbformat_minor": 0
}