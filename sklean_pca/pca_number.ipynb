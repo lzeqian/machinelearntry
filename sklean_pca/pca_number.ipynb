{
 "cells": [
  {
   "cell_type": "code",
   "execution_count": 1,
   "metadata": {
    "collapsed": true,
    "pycharm": {
     "is_executing": false
    }
   },
   "outputs": [
    {
     "name": "stdout",
     "text": [
      "(70000, 784) (70000,)\n"
     ],
     "output_type": "stream"
    }
   ],
   "source": [
    "from sklearn.decomposition import PCA\n",
    "import numpy as np\n",
    "import matplotlib.pyplot as plt\n",
    "import matplotlib as mpl\n",
    "from sklearn.model_selection import train_test_split\n",
    "from sklearn.datasets import fetch_openml\n",
    "## https://www.openml.org/可以搜索到对应数据集\n",
    "mnist = fetch_openml(data_home=\"d:/test/face\",name='mnist_784')\n",
    "X, y = mnist['data'], mnist['target']\n",
    "X_train, X_test, y_train, y_test=train_test_split(X,y,train_size=0.9)\n",
    "#共有7万张图片，每张图片有784个特征 784开方是28*28。\n",
    "print(X.shape, y.shape)\n"
   ]
  },
  {
   "cell_type": "code",
   "execution_count": 11,
   "outputs": [
    {
     "data": {
      "text/plain": "<Figure size 576x288 with 25 Axes>",
      "image/png": "[encoded data removed]"
     },
     "metadata": {},
     "output_type": "display_data"
    }
   ],
   "source": [
    "fig, axes = plt.subplots(5,5 #创建一个画布有3*8个子图\n",
    "                         ,figsize = (8,4) #创建一个大小为8*4的黄布\n",
    "                         ,subplot_kw = {\"xticks\":[],\"yticks\":[]} # 每个子图都不显示坐标轴\n",
    "                        )\n",
    "for i,ax in enumerate(axes.flat):\n",
    "    ax.imshow(X[i].reshape(28, 28), cmap = \"gray\")\n"
   ],
   "metadata": {
    "collapsed": false,
    "pycharm": {
     "name": "#%%\n",
     "is_executing": false
    }
   }
  },
  {
   "cell_type": "code",
   "execution_count": 4,
   "outputs": [
    {
     "name": "stdout",
     "text": [
      "Wall time: 1min 2s\n"
     ],
     "output_type": "stream"
    },
    {
     "data": {
      "text/plain": "KNeighborsClassifier(algorithm='auto', leaf_size=30, metric='minkowski',\n                     metric_params=None, n_jobs=None, n_neighbors=5, p=2,\n                     weights='uniform')"
     },
     "metadata": {},
     "output_type": "execute_result",
     "execution_count": 4
    }
   ],
   "source": [
    "from sklearn.neighbors import KNeighborsClassifier\n",
    "\n",
    "knn=KNeighborsClassifier()\n",
    "#导入time模块 训练数据将近一分钟左右\n",
    "%time knn.fit(X_train,y_train)"
   ],
   "metadata": {
    "collapsed": false,
    "pycharm": {
     "name": "#%%\n",
     "is_executing": false
    }
   }
  },
  {
   "cell_type": "code",
   "execution_count": 5,
   "outputs": [
    {
     "name": "stdout",
     "text": [
      "预测的数字： ['2']\nWall time: 92 ms\n"
     ],
     "output_type": "stream"
    },
    {
     "data": {
      "text/plain": "<Figure size 432x288 with 1 Axes>",
      "image/png": "[encoded data removed]"
     },
     "metadata": {
      "needs_background": "light"
     },
     "output_type": "display_data"
    }
   ],
   "source": [
    "#获取第几个模型的测试数据，用来预测\n",
    "preindex=101;\n",
    "plt.imshow(X_test[preindex,].reshape(28, 28), cmap = \"gray\");\n",
    "%time print(\"预测的数字：\",knn.predict(X_test[preindex:preindex+1,]))\n",
    "plt.show()"
   ],
   "metadata": {
    "collapsed": false,
    "pycharm": {
     "name": "#%%\n",
     "is_executing": false
    }
   }
  },
  {
   "cell_type": "code",
   "execution_count": 32,
   "outputs": [
    {
     "name": "stdout",
     "text": [
      "0.9738571428571429\nWall time: 9min 9s\n"
     ],
     "output_type": "stream"
    }
   ],
   "source": [
    "#通过测试数据获取该模型的得分。\n",
    "%time print(knn.score(X_test,y_test))\n"
   ],
   "metadata": {
    "collapsed": false,
    "pycharm": {
     "name": "#%%\n",
     "is_executing": false
    }
   }
  },
  {
   "cell_type": "code",
   "execution_count": 21,
   "outputs": [
    {
     "name": "stdout",
     "text": [
      "(63000, 100) (7000, 100)\n",
      "Wall time: 2.75 s\n",
      "预测的数字： ['7']\nWall time: 8.99 ms\n"
     ],
     "output_type": "stream"
    },
    {
     "data": {
      "text/plain": "<Figure size 432x288 with 1 Axes>",
      "image/png": "[encoded data removed]"
     },
     "metadata": {
      "needs_background": "light"
     },
     "output_type": "display_data"
    }
   ],
   "source": [
    "from sklearn.neighbors import KNeighborsClassifier\n",
    "from sklearn.decomposition import PCA\n",
    "#保留多少个主成分维度，如果是数组是保留多少个 如果是比例 用0-1的数字，比如0.9保留90%主成分\n",
    "pca = PCA(n_components=100)\n",
    "#注意要transform多个 一定要调用fit方法，而不是调用两次fit_transform否则导致两次的维度不一致，fit会根据数据行算出特征的。\n",
    "pca.fit(X_train,y_train)\n",
    "PCA_trainmat = pca.transform(X_train)\n",
    "PCA_testmat = pca.transform(X_test)\n",
    "print(PCA_trainmat.shape,PCA_testmat.shape)\n",
    "knn1=KNeighborsClassifier()\n",
    "%time knn1.fit(PCA_trainmat,y_train)\n",
    "preindex1=101;\n",
    "x_inv = pca.inverse_transform(PCA_testmat) \n",
    "plt.imshow(x_inv[preindex1,].reshape(28, 28), cmap = \"gray\");\n",
    "plt.show()\n",
    "\n",
    "%time print(\"预测的数字：\",knn1.predict(PCA_testmat[preindex1:preindex1+1,]))"
   ],
   "metadata": {
    "collapsed": false,
    "pycharm": {
     "name": "#%%\n",
     "is_executing": false
    }
   }
  },
  {
   "cell_type": "code",
   "execution_count": 22,
   "outputs": [
    {
     "name": "stdout",
     "text": [
      "0.9758571428571429\nWall time: 1min 18s\n"
     ],
     "output_type": "stream"
    }
   ],
   "source": [
    "%time print(knn1.score(PCA_testmat,y_test))\n"
   ],
   "metadata": {
    "collapsed": false,
    "pycharm": {
     "name": "#%%\n",
     "is_executing": false
    }
   }
  }
 ],
 "metadata": {
  "kernelspec": {
   "display_name": "Python 3",
   "language": "python",
   "name": "python3"
  },
  "language_info": {
   "codemirror_mode": {
    "name": "ipython",
    "version": 2
   },
   "file_extension": ".py",
   "mimetype": "text/x-python",
   "name": "python",
   "nbconvert_exporter": "python",
   "pygments_lexer": "ipython2",
   "version": "2.7.6"
  },
  "pycharm": {
   "stem_cell": {
    "cell_type": "raw",
    "source": [],
    "metadata": {
     "collapsed": false
    }
   }
  }
 },
 "nbformat": 4,
 "nbformat_minor": 0
}