{
 "cells": [
  {
   "cell_type": "code",
   "execution_count": 3,
   "metadata": {
    "collapsed": true,
    "pycharm": {
     "is_executing": false
    }
   },
   "outputs": [
    {
     "name": "stdout",
     "text": [
      "[[ 1  2]\n [ 3  4]\n [ 5  6]\n [ 7  8]\n [ 9 10]]\n"
     ],
     "output_type": "stream"
    }
   ],
   "source": [
    "import numpy as np\n",
    "\n",
    "x = np.arange(1, 11).reshape(5, 2)\n",
    "print(x)"
   ]
  },
  {
   "cell_type": "code",
   "execution_count": 4,
   "outputs": [
    {
     "name": "stdout",
     "text": [
      "[[  1.   1.   2.   1.   2.   4.]\n [  1.   3.   4.   9.  12.  16.]\n [  1.   5.   6.  25.  30.  36.]\n [  1.   7.   8.  49.  56.  64.]\n [  1.   9.  10.  81.  90. 100.]]\n"
     ],
     "output_type": "stream"
    }
   ],
   "source": [
    "from sklearn.preprocessing import PolynomialFeatures\n",
    "poly = PolynomialFeatures()\n",
    "poly.fit(x)\n",
    "x2 = poly.transform(x)\n",
    "print(x2)"
   ],
   "metadata": {
    "collapsed": false,
    "pycharm": {
     "name": "#%%\n",
     "is_executing": false
    }
   }
  },
  {
   "cell_type": "code",
   "execution_count": 6,
   "outputs": [
    {
     "name": "stdout",
     "text": [
      "[[   1.    1.    2.    1.    2.    4.    1.    2.    4.    8.]\n [   1.    3.    4.    9.   12.   16.   27.   36.   48.   64.]\n [   1.    5.    6.   25.   30.   36.  125.  150.  180.  216.]\n [   1.    7.    8.   49.   56.   64.  343.  392.  448.  512.]\n [   1.    9.   10.   81.   90.  100.  729.  810.  900. 1000.]]\n"
     ],
     "output_type": "stream"
    }
   ],
   "source": [
    "poly = PolynomialFeatures(degree=3)\n",
    "poly.fit(x)\n",
    "x3 = poly.transform(x)\n",
    "print(x3)\n"
   ],
   "metadata": {
    "collapsed": false,
    "pycharm": {
     "name": "#%%\n",
     "is_executing": false
    }
   }
  }
 ],
 "metadata": {
  "kernelspec": {
   "display_name": "Python 3",
   "language": "python",
   "name": "python3"
  },
  "language_info": {
   "codemirror_mode": {
    "name": "ipython",
    "version": 2
   },
   "file_extension": ".py",
   "mimetype": "text/x-python",
   "name": "python",
   "nbconvert_exporter": "python",
   "pygments_lexer": "ipython2",
   "version": "2.7.6"
  },
  "pycharm": {
   "stem_cell": {
    "cell_type": "raw",
    "source": [],
    "metadata": {
     "collapsed": false
    }
   }
  }
 },
 "nbformat": 4,
 "nbformat_minor": 0
}