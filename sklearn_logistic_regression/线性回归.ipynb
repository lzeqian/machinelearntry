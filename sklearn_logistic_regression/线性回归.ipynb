{
 "cells": [
  {
   "cell_type": "code",
   "execution_count": 14,
   "metadata": {
    "collapsed": true,
    "pycharm": {
     "is_executing": false
    }
   },
   "outputs": [
    {
     "name": "stdout",
     "text": [
      "[[1 2]\n [3 4]\n [5 6]]\n[[0.5]\n [0.5]]\n[[1.5]\n [3.5]\n [5.5]]\n"
     ],
     "output_type": "stream"
    }
   ],
   "source": [
    "import numpy as np;\n",
    "theta=np.array([[0.5,0.5]])\n",
    "theta0=1\n",
    "x = np.array([[1, 2], [3, 4], [5, 6]])\n",
    "print(x)\n",
    "print(theta.T)\n",
    "print(np.dot(x,theta.T))\n",
    "\n",
    "\n"
   ]
  }
 ],
 "metadata": {
  "kernelspec": {
   "display_name": "Python 3",
   "language": "python",
   "name": "python3"
  },
  "language_info": {
   "codemirror_mode": {
    "name": "ipython",
    "version": 2
   },
   "file_extension": ".py",
   "mimetype": "text/x-python",
   "name": "python",
   "nbconvert_exporter": "python",
   "pygments_lexer": "ipython2",
   "version": "2.7.6"
  },
  "pycharm": {
   "stem_cell": {
    "cell_type": "raw",
    "source": [],
    "metadata": {
     "collapsed": false
    }
   }
  }
 },
 "nbformat": 4,
 "nbformat_minor": 0
}