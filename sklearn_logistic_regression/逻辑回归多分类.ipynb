{
 "cells": [
  {
   "cell_type": "code",
   "execution_count": 6,
   "metadata": {
    "collapsed": true,
    "pycharm": {
     "is_executing": false
    }
   },
   "outputs": [
    {
     "name": "stdout",
     "text": [
      "[0 0 0 0 0 0 0 0 0 0 0 0 0 0 0 0 0 0 0 0 0 0 0 0 0 0 0 0 0 0 0 0 0 0 0 0 0\n 0 0 0 0 0 0 0 0 0 0 0 0 0 0 0 0 0 0 0 0 0 0 1 1 1 1 1 1 1 1 1 1 1 1 1 1 1\n 1 1 1 1 1 1 1 1 1 1 1 1 1 1 1 1 1 1 1 1 1 1 1 1 1 1 1 1 1 1 1 1 1 1 1 1 1\n 1 1 1 1 1 1 1 1 1 1 1 1 1 1 1 1 1 1 1 2 2 2 2 2 2 2 2 2 2 2 2 2 2 2 2 2 2\n 2 2 2 2 2 2 2 2 2 2 2 2 2 2 2 2 2 2 2 2 2 2 2 2 2 2 2 2 2 2]\n",
      "Train accuracy score: 0.9788732394366197\nTest accuracy score: 1.0\n"
     ],
     "output_type": "stream"
    }
   ],
   "source": [
    "\"\"\"\n",
    "sklearn中的load_breast_cancer数据集是一个二分类的数据集，包含了乳腺癌肿瘤的临床测量指标\n",
    "\"\"\"\n",
    "from sklearn.datasets import load_wine\n",
    "from sklearn.linear_model import LogisticRegression\n",
    "from sklearn.multiclass import OneVsRestClassifier,OneVsOneClassifier\n",
    "from sklearn.model_selection import train_test_split\n",
    "from sklearn.metrics import accuracy_score\n",
    "data = load_wine()\n",
    "X = data.data    # 特征\n",
    "y = data.target  # 标签\n",
    "# 划分训练集和测试集\n",
    "X_train, X_test, y_train, y_test = train_test_split(X, y, test_size=0.2, random_state=42)\n",
    "\n",
    "# 定义逻辑回归模型\n",
    "lr_model = LogisticRegression(max_iter=2100)\n",
    "ovr = OneVsRestClassifier(lr_model)\n",
    "# 拟合模型\n",
    "ovr.fit(X_train, y_train)\n",
    "\n",
    "# 预测训练集和测试集上的结果\n",
    "train_pred = ovr.predict(X_train)\n",
    "test_pred = ovr.predict(X_test)\n",
    "\n",
    "# 输出准确率\n",
    "print('Train accuracy score:', accuracy_score(y_train, train_pred))\n",
    "print('Test accuracy score:', accuracy_score(y_test, test_pred))  # 输出数据集中标签的维度"
   ]
  },
  {
   "cell_type": "code",
   "execution_count": 7,
   "outputs": [
    {
     "name": "stdout",
     "text": [
      "Train accuracy score: 0.9929577464788732\nTest accuracy score: 1.0\n"
     ],
     "output_type": "stream"
    }
   ],
   "source": [
    "ovo = OneVsOneClassifier(lr_model)\n",
    "ovo.fit(X_train, y_train)\n",
    "# 拟合模型\n",
    "ovo.fit(X_train, y_train)\n",
    "\n",
    "# 预测训练集和测试集上的结果\n",
    "train_pred1 = ovo.predict(X_train)\n",
    "test_pred1 = ovo.predict(X_test)\n",
    "\n",
    "# 输出准确率\n",
    "print('Train accuracy score:', accuracy_score(y_train, train_pred1))\n",
    "print('Test accuracy score:', accuracy_score(y_test, test_pred1))  "
   ],
   "metadata": {
    "collapsed": false,
    "pycharm": {
     "name": "#%%\n",
     "is_executing": false
    }
   }
  }
 ],
 "metadata": {
  "kernelspec": {
   "display_name": "Python 3",
   "language": "python",
   "name": "python3"
  },
  "language_info": {
   "codemirror_mode": {
    "name": "ipython",
    "version": 2
   },
   "file_extension": ".py",
   "mimetype": "text/x-python",
   "name": "python",
   "nbconvert_exporter": "python",
   "pygments_lexer": "ipython2",
   "version": "2.7.6"
  },
  "pycharm": {
   "stem_cell": {
    "cell_type": "raw",
    "source": [],
    "metadata": {
     "collapsed": false
    }
   }
  }
 },
 "nbformat": 4,
 "nbformat_minor": 0
}